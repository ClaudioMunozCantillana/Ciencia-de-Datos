{
  "metadata": {
    "kernelspec": {
      "name": "python",
      "display_name": "Python (Pyodide)",
      "language": "python"
    },
    "language_info": {
      "codemirror_mode": {
        "name": "python",
        "version": 3
      },
      "file_extension": ".py",
      "mimetype": "text/x-python",
      "name": "python",
      "nbconvert_exporter": "python",
      "pygments_lexer": "ipython3",
      "version": "3.8"
    }
  },
  "nbformat_minor": 5,
  "nbformat": 4,
  "cells": [
    {
      "id": "eb3a78bc-b6de-4ae2-9f30-f063bdb479c5",
      "cell_type": "markdown",
      "source": "# Ciencia de Datos con JupyterLite",
      "metadata": {}
    },
    {
      "id": "e1087524-d189-4a91-a4bb-379bc793ba60",
      "cell_type": "markdown",
      "source": "Este cuaderno presenta un repaso de conceptos fundamentales de ciencia de datos,\nutilizando celdas Markdown y de código en JupyterLite. A través de ejemplos simples,\nse ilustran herramientas, bibliotecas y operaciones comunes en este campo.",
      "metadata": {}
    },
    {
      "id": "db100a53-e059-4d44-b6fc-9c99d8f56eaa",
      "cell_type": "markdown",
      "source": "Los principales lenguajes utilizados en Ciencia de Datos son:\n\n- Python\n- R\n- SQL\n- Julia\n- Scala",
      "metadata": {}
    },
    {
      "id": "40328cd5-e5f6-407b-9a7f-64dab704f105",
      "cell_type": "markdown",
      "source": "Algunas bibliotecas populares en Ciencia de Datos incluyen:\n\n- NumPy\n- Pandas\n- Matplotlib\n- Seaborn\n- Scikit-learn\n- TensorFlow\n- Keras",
      "metadata": {}
    },
    {
      "id": "f20fc8de-c458-4f2c-8720-e007d7c6d591",
      "cell_type": "markdown",
      "source": "| Herramienta       | Descripción                              |\n|-------------------|------------------------------------------|\n| Jupyter Notebook  | Entorno interactivo para código en Python |\n| RStudio           | IDE para programación en R                |\n| GitHub            | Control de versiones y colaboración       |\n| VS Code           | Editor de código multiplataforma          |\n| Apache Spark      | Procesamiento de datos a gran escala      |",
      "metadata": {}
    },
    {
      "id": "9ac02751-7503-4a2d-ae6b-b7f7f9ef24f5",
      "cell_type": "markdown",
      "source": "Ejemplos comunes de operaciones matemáticas:\n\n- Suma: 5 + 3\n- Resta: 10 - 4\n- Multiplicación: 6 * 7\n- División: 8 / 2",
      "metadata": {}
    },
    {
      "id": "04da73fe-ebfd-46cd-bc72-00e51e57bc86",
      "cell_type": "code",
      "source": "x = 10\ny = 5\nmultiplicacion = x * y\nsuma = x + y\nprint(\"Multiplicación:\", multiplicacion)\nprint(\"Suma:\", suma)",
      "metadata": {},
      "outputs": [],
      "execution_count": null
    },
    {
      "id": "d77657cb-e60b-4dc9-a036-6b31c2b8b68f",
      "cell_type": "code",
      "source": "minutos = 150\nhoras = minutos / 60\nprint(minutos, \"minutos equivalen a\", horas, \"horas\")",
      "metadata": {},
      "outputs": [],
      "execution_count": null
    },
    {
      "id": "ef5dacd0-4d4c-41a8-a9cd-ce58be5c7a62",
      "cell_type": "code",
      "source": "objetivos = [\"Aprender Python\", \"Conocer herramientas de ciencia de datos\", \"Practicar en JupyterLite\"]\nprint(\"Objetivos del curso:\")\nfor objetivo in objetivos:\n    print(\"-\", objetivo)",
      "metadata": {},
      "outputs": [],
      "execution_count": null
    },
    {
      "id": "9063a587-5b70-45e5-8a70-c72ed5fad872",
      "cell_type": "markdown",
      "source": "**Autor:** Claudio Nicolás Muñoz Cantillana",
      "metadata": {}
    },
    {
      "id": "0662d34c-0b9e-46f0-9295-3c5bcfbc06a8",
      "cell_type": "markdown",
      "source": "Para compartir el cuaderno en GitHub o GitLab:\n1. Guardar el archivo `.ipynb` desde JupyterLite.\n2. Subirlo a un repositorio público en GitHub o GitLab.\n3. Copiar y compartir el enlace del repositorio.",
      "metadata": {}
    }
  ]
}